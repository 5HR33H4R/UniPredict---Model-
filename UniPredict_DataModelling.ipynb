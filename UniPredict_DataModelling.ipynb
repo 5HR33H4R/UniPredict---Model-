{
 "cells": [
  {
   "cell_type": "markdown",
   "metadata": {
    "id": "BjnOfxq121cj"
   },
   "source": [
    "## 1. Importing Libraries"
   ]
  },
  {
   "cell_type": "code",
   "execution_count": 1,
   "metadata": {
    "id": "G4MyjuZuKjiH"
   },
   "outputs": [],
   "source": [
    "import pandas as pd\n",
    "import numpy as np\n",
    "import seaborn as sns\n",
    "import matplotlib.pyplot as plt\n",
    "from sklearn.linear_model import LinearRegression\n",
    "import pickle"
   ]
  },
  {
   "cell_type": "markdown",
   "metadata": {
    "id": "AqHwxuBe25MG"
   },
   "source": [
    "## 2. Loading the datasets"
   ]
  },
  {
   "cell_type": "code",
   "execution_count": 2,
   "metadata": {
    "id": "SnAtuumgMDKA"
   },
   "outputs": [],
   "source": [
    "df1 = pd.read_csv(\"/home/shree/Documents/IBM_NalaiyaThiran/Datasets/Cleaned Datasets/round_1.csv\")\n",
    "df2 = pd.read_csv(\"/home/shree/Documents/IBM_NalaiyaThiran/Datasets/Cleaned Datasets/round_2.csv\")\n",
    "df3 = pd.read_csv(\"/home/shree/Documents/IBM_NalaiyaThiran/Datasets/Cleaned Datasets/round_3.csv\")\n",
    "df4 = pd.read_csv(\"/home/shree/Documents/IBM_NalaiyaThiran/Datasets/Cleaned Datasets/round_4.csv\")"
   ]
  },
  {
   "cell_type": "markdown",
   "metadata": {
    "id": "BfhYPGb_28Hv"
   },
   "source": [
    "## 3. Adding the 'round' column"
   ]
  },
  {
   "cell_type": "code",
   "execution_count": 3,
   "metadata": {
    "id": "2EwIiW_ZMRoJ"
   },
   "outputs": [],
   "source": [
    "df1['ROUND'] = 1\n",
    "df2['ROUND'] = 2\n",
    "df3['ROUND'] = 3\n",
    "df4['ROUND'] = 4"
   ]
  },
  {
   "cell_type": "code",
   "execution_count": 4,
   "metadata": {
    "colab": {
     "base_uri": "https://localhost:8080/",
     "height": 206
    },
    "id": "81h8S8VwM5yQ",
    "outputId": "53aea420-74c3-4d31-9970-922b0a538b60"
   },
   "outputs": [
    {
     "data": {
      "text/html": [
       "<div>\n",
       "<style scoped>\n",
       "    .dataframe tbody tr th:only-of-type {\n",
       "        vertical-align: middle;\n",
       "    }\n",
       "\n",
       "    .dataframe tbody tr th {\n",
       "        vertical-align: top;\n",
       "    }\n",
       "\n",
       "    .dataframe thead th {\n",
       "        text-align: right;\n",
       "    }\n",
       "</style>\n",
       "<table border=\"1\" class=\"dataframe\">\n",
       "  <thead>\n",
       "    <tr style=\"text-align: right;\">\n",
       "      <th></th>\n",
       "      <th>S NO</th>\n",
       "      <th>APPLICATION NUMBER</th>\n",
       "      <th>NAME OF THE CANDIDATE</th>\n",
       "      <th>AGGREGATE MARK</th>\n",
       "      <th>RANK</th>\n",
       "      <th>COMMUNITY</th>\n",
       "      <th>COLLEGE CODE</th>\n",
       "      <th>BRANCH CODE</th>\n",
       "      <th>ALLOTTED CATEGORY</th>\n",
       "      <th>ROUND</th>\n",
       "    </tr>\n",
       "  </thead>\n",
       "  <tbody>\n",
       "    <tr>\n",
       "      <th>0</th>\n",
       "      <td>1</td>\n",
       "      <td>316999</td>\n",
       "      <td>J NITHYASREE</td>\n",
       "      <td>200.0</td>\n",
       "      <td>1</td>\n",
       "      <td>MBCV</td>\n",
       "      <td>1</td>\n",
       "      <td>CS</td>\n",
       "      <td>OC</td>\n",
       "      <td>1</td>\n",
       "    </tr>\n",
       "    <tr>\n",
       "      <th>1</th>\n",
       "      <td>2</td>\n",
       "      <td>251701</td>\n",
       "      <td>SREENITHI A</td>\n",
       "      <td>200.0</td>\n",
       "      <td>3</td>\n",
       "      <td>BC</td>\n",
       "      <td>1</td>\n",
       "      <td>CS</td>\n",
       "      <td>OC</td>\n",
       "      <td>1</td>\n",
       "    </tr>\n",
       "    <tr>\n",
       "      <th>2</th>\n",
       "      <td>3</td>\n",
       "      <td>340928</td>\n",
       "      <td>UMA SHWETHA P L</td>\n",
       "      <td>200.0</td>\n",
       "      <td>6</td>\n",
       "      <td>OC</td>\n",
       "      <td>1</td>\n",
       "      <td>EC</td>\n",
       "      <td>OC</td>\n",
       "      <td>1</td>\n",
       "    </tr>\n",
       "    <tr>\n",
       "      <th>3</th>\n",
       "      <td>4</td>\n",
       "      <td>258426</td>\n",
       "      <td>SUBHASRI SHREYA S L</td>\n",
       "      <td>200.0</td>\n",
       "      <td>7</td>\n",
       "      <td>BC</td>\n",
       "      <td>2006</td>\n",
       "      <td>CM</td>\n",
       "      <td>OC</td>\n",
       "      <td>1</td>\n",
       "    </tr>\n",
       "    <tr>\n",
       "      <th>4</th>\n",
       "      <td>5</td>\n",
       "      <td>243792</td>\n",
       "      <td>Sarathivasan s</td>\n",
       "      <td>200.0</td>\n",
       "      <td>8</td>\n",
       "      <td>BC</td>\n",
       "      <td>1</td>\n",
       "      <td>CS</td>\n",
       "      <td>OC</td>\n",
       "      <td>1</td>\n",
       "    </tr>\n",
       "  </tbody>\n",
       "</table>\n",
       "</div>"
      ],
      "text/plain": [
       "   S NO  APPLICATION NUMBER NAME OF THE CANDIDATE  AGGREGATE MARK  RANK  \\\n",
       "0     1              316999          J NITHYASREE           200.0     1   \n",
       "1     2              251701           SREENITHI A           200.0     3   \n",
       "2     3              340928       UMA SHWETHA P L           200.0     6   \n",
       "3     4              258426   SUBHASRI SHREYA S L           200.0     7   \n",
       "4     5              243792        Sarathivasan s           200.0     8   \n",
       "\n",
       "  COMMUNITY  COLLEGE CODE BRANCH CODE ALLOTTED CATEGORY  ROUND  \n",
       "0      MBCV             1          CS                OC      1  \n",
       "1        BC             1          CS                OC      1  \n",
       "2        OC             1          EC                OC      1  \n",
       "3        BC          2006          CM                OC      1  \n",
       "4        BC             1          CS                OC      1  "
      ]
     },
     "execution_count": 4,
     "metadata": {},
     "output_type": "execute_result"
    }
   ],
   "source": [
    "df1.head()"
   ]
  },
  {
   "cell_type": "code",
   "execution_count": 5,
   "metadata": {
    "colab": {
     "base_uri": "https://localhost:8080/"
    },
    "id": "zHZE7nIn5Hvx",
    "outputId": "7ec9ed7b-6aa5-4a9d-ba4b-9ab8f1b172d8"
   },
   "outputs": [
    {
     "name": "stdout",
     "output_type": "stream",
     "text": [
      "<class 'pandas.core.frame.DataFrame'>\n",
      "RangeIndex: 10118 entries, 0 to 10117\n",
      "Data columns (total 10 columns):\n",
      " #   Column                 Non-Null Count  Dtype  \n",
      "---  ------                 --------------  -----  \n",
      " 0   S NO                   10118 non-null  int64  \n",
      " 1   APPLICATION NUMBER     10118 non-null  int64  \n",
      " 2   NAME OF THE CANDIDATE  10118 non-null  object \n",
      " 3   AGGREGATE MARK         10118 non-null  float64\n",
      " 4   RANK                   10118 non-null  int64  \n",
      " 5   COMMUNITY              10118 non-null  object \n",
      " 6   COLLEGE CODE           10118 non-null  int64  \n",
      " 7   BRANCH CODE            10118 non-null  object \n",
      " 8   ALLOTTED CATEGORY      10118 non-null  object \n",
      " 9   ROUND                  10118 non-null  int64  \n",
      "dtypes: float64(1), int64(5), object(4)\n",
      "memory usage: 790.6+ KB\n"
     ]
    }
   ],
   "source": [
    "df1.info()"
   ]
  },
  {
   "cell_type": "code",
   "execution_count": 6,
   "metadata": {
    "colab": {
     "base_uri": "https://localhost:8080/",
     "height": 206
    },
    "id": "30mLoi1MNpEi",
    "outputId": "97d02c5b-a4cb-49ea-e1a7-94ca18ac683d"
   },
   "outputs": [
    {
     "data": {
      "text/html": [
       "<div>\n",
       "<style scoped>\n",
       "    .dataframe tbody tr th:only-of-type {\n",
       "        vertical-align: middle;\n",
       "    }\n",
       "\n",
       "    .dataframe tbody tr th {\n",
       "        vertical-align: top;\n",
       "    }\n",
       "\n",
       "    .dataframe thead th {\n",
       "        text-align: right;\n",
       "    }\n",
       "</style>\n",
       "<table border=\"1\" class=\"dataframe\">\n",
       "  <thead>\n",
       "    <tr style=\"text-align: right;\">\n",
       "      <th></th>\n",
       "      <th>S NO</th>\n",
       "      <th>APPLICATION NUMBER</th>\n",
       "      <th>NAME OF THE CANDIDATE</th>\n",
       "      <th>AGGREGATE MARK</th>\n",
       "      <th>RANK</th>\n",
       "      <th>COMMUNITY</th>\n",
       "      <th>COLLEGE CODE</th>\n",
       "      <th>BRANCH CODE</th>\n",
       "      <th>ALLOTTED CATEGORY</th>\n",
       "      <th>ROUND</th>\n",
       "    </tr>\n",
       "  </thead>\n",
       "  <tbody>\n",
       "    <tr>\n",
       "      <th>0</th>\n",
       "      <td>1</td>\n",
       "      <td>339809</td>\n",
       "      <td>Derin Patrick J</td>\n",
       "      <td>199.500</td>\n",
       "      <td>15</td>\n",
       "      <td>BC</td>\n",
       "      <td>1149</td>\n",
       "      <td>AD</td>\n",
       "      <td>OC</td>\n",
       "      <td>2</td>\n",
       "    </tr>\n",
       "    <tr>\n",
       "      <th>1</th>\n",
       "      <td>2</td>\n",
       "      <td>317367</td>\n",
       "      <td>M NIKKETHA</td>\n",
       "      <td>197.000</td>\n",
       "      <td>436</td>\n",
       "      <td>SC</td>\n",
       "      <td>2</td>\n",
       "      <td>CL</td>\n",
       "      <td>SC</td>\n",
       "      <td>2</td>\n",
       "    </tr>\n",
       "    <tr>\n",
       "      <th>2</th>\n",
       "      <td>3</td>\n",
       "      <td>292209</td>\n",
       "      <td>shyamalan senthil</td>\n",
       "      <td>195.500</td>\n",
       "      <td>1013</td>\n",
       "      <td>BC</td>\n",
       "      <td>1324</td>\n",
       "      <td>CS</td>\n",
       "      <td>OC</td>\n",
       "      <td>2</td>\n",
       "    </tr>\n",
       "    <tr>\n",
       "      <th>3</th>\n",
       "      <td>4</td>\n",
       "      <td>241046</td>\n",
       "      <td>SANTHIYA E</td>\n",
       "      <td>195.350</td>\n",
       "      <td>1087</td>\n",
       "      <td>BC</td>\n",
       "      <td>3011</td>\n",
       "      <td>IT</td>\n",
       "      <td>OC</td>\n",
       "      <td>2</td>\n",
       "    </tr>\n",
       "    <tr>\n",
       "      <th>4</th>\n",
       "      <td>5</td>\n",
       "      <td>309601</td>\n",
       "      <td>SHAJI S</td>\n",
       "      <td>195.185</td>\n",
       "      <td>1150</td>\n",
       "      <td>OC</td>\n",
       "      <td>1026</td>\n",
       "      <td>CS</td>\n",
       "      <td>OC</td>\n",
       "      <td>2</td>\n",
       "    </tr>\n",
       "  </tbody>\n",
       "</table>\n",
       "</div>"
      ],
      "text/plain": [
       "   S NO  APPLICATION NUMBER NAME OF THE CANDIDATE  AGGREGATE MARK  RANK  \\\n",
       "0     1              339809       Derin Patrick J         199.500    15   \n",
       "1     2              317367            M NIKKETHA         197.000   436   \n",
       "2     3              292209     shyamalan senthil         195.500  1013   \n",
       "3     4              241046            SANTHIYA E         195.350  1087   \n",
       "4     5              309601               SHAJI S         195.185  1150   \n",
       "\n",
       "  COMMUNITY  COLLEGE CODE BRANCH CODE ALLOTTED CATEGORY  ROUND  \n",
       "0        BC          1149          AD                OC      2  \n",
       "1        SC             2          CL                SC      2  \n",
       "2        BC          1324          CS                OC      2  \n",
       "3        BC          3011          IT                OC      2  \n",
       "4        OC          1026          CS                OC      2  "
      ]
     },
     "execution_count": 6,
     "metadata": {},
     "output_type": "execute_result"
    }
   ],
   "source": [
    "df2.head()"
   ]
  },
  {
   "cell_type": "code",
   "execution_count": 7,
   "metadata": {
    "colab": {
     "base_uri": "https://localhost:8080/",
     "height": 206
    },
    "id": "yV0UkablNqmT",
    "outputId": "af50e661-a06d-4090-bd07-8f12d13e7682"
   },
   "outputs": [
    {
     "data": {
      "text/html": [
       "<div>\n",
       "<style scoped>\n",
       "    .dataframe tbody tr th:only-of-type {\n",
       "        vertical-align: middle;\n",
       "    }\n",
       "\n",
       "    .dataframe tbody tr th {\n",
       "        vertical-align: top;\n",
       "    }\n",
       "\n",
       "    .dataframe thead th {\n",
       "        text-align: right;\n",
       "    }\n",
       "</style>\n",
       "<table border=\"1\" class=\"dataframe\">\n",
       "  <thead>\n",
       "    <tr style=\"text-align: right;\">\n",
       "      <th></th>\n",
       "      <th>S NO</th>\n",
       "      <th>APPLICATION NUMBER</th>\n",
       "      <th>NAME OF THE CANDIDATE</th>\n",
       "      <th>AGGREGATE MARK</th>\n",
       "      <th>RANK</th>\n",
       "      <th>COMMUNITY</th>\n",
       "      <th>COLLEGE CODE</th>\n",
       "      <th>BRANCH CODE</th>\n",
       "      <th>ALLOTTED CATEGORY</th>\n",
       "      <th>ROUND</th>\n",
       "    </tr>\n",
       "  </thead>\n",
       "  <tbody>\n",
       "    <tr>\n",
       "      <th>0</th>\n",
       "      <td>1</td>\n",
       "      <td>312150</td>\n",
       "      <td>CHANDINI D</td>\n",
       "      <td>193.900</td>\n",
       "      <td>2122</td>\n",
       "      <td>BC</td>\n",
       "      <td>2751</td>\n",
       "      <td>IT</td>\n",
       "      <td>BC</td>\n",
       "      <td>3</td>\n",
       "    </tr>\n",
       "    <tr>\n",
       "      <th>1</th>\n",
       "      <td>2</td>\n",
       "      <td>215831</td>\n",
       "      <td>KANIHA.K</td>\n",
       "      <td>193.185</td>\n",
       "      <td>2612</td>\n",
       "      <td>BC</td>\n",
       "      <td>4024</td>\n",
       "      <td>EC</td>\n",
       "      <td>BC</td>\n",
       "      <td>3</td>\n",
       "    </tr>\n",
       "    <tr>\n",
       "      <th>2</th>\n",
       "      <td>3</td>\n",
       "      <td>351148</td>\n",
       "      <td>ABDULLAH THOAHA YASEEN Y</td>\n",
       "      <td>192.500</td>\n",
       "      <td>3516</td>\n",
       "      <td>BCM</td>\n",
       "      <td>1422</td>\n",
       "      <td>EC</td>\n",
       "      <td>BCM</td>\n",
       "      <td>3</td>\n",
       "    </tr>\n",
       "    <tr>\n",
       "      <th>3</th>\n",
       "      <td>4</td>\n",
       "      <td>299636</td>\n",
       "      <td>SANGEETHA R</td>\n",
       "      <td>192.110</td>\n",
       "      <td>3814</td>\n",
       "      <td>BC</td>\n",
       "      <td>4678</td>\n",
       "      <td>EC</td>\n",
       "      <td>BC</td>\n",
       "      <td>3</td>\n",
       "    </tr>\n",
       "    <tr>\n",
       "      <th>4</th>\n",
       "      <td>5</td>\n",
       "      <td>240841</td>\n",
       "      <td>JANAGAN A</td>\n",
       "      <td>190.395</td>\n",
       "      <td>6493</td>\n",
       "      <td>MBCV</td>\n",
       "      <td>2708</td>\n",
       "      <td>CS</td>\n",
       "      <td>MBCV</td>\n",
       "      <td>3</td>\n",
       "    </tr>\n",
       "  </tbody>\n",
       "</table>\n",
       "</div>"
      ],
      "text/plain": [
       "   S NO  APPLICATION NUMBER     NAME OF THE CANDIDATE  AGGREGATE MARK  RANK  \\\n",
       "0     1              312150                CHANDINI D         193.900  2122   \n",
       "1     2              215831                  KANIHA.K         193.185  2612   \n",
       "2     3              351148  ABDULLAH THOAHA YASEEN Y         192.500  3516   \n",
       "3     4              299636               SANGEETHA R         192.110  3814   \n",
       "4     5              240841                 JANAGAN A         190.395  6493   \n",
       "\n",
       "  COMMUNITY  COLLEGE CODE BRANCH CODE ALLOTTED CATEGORY  ROUND  \n",
       "0        BC          2751          IT                BC      3  \n",
       "1        BC          4024          EC                BC      3  \n",
       "2       BCM          1422          EC               BCM      3  \n",
       "3        BC          4678          EC                BC      3  \n",
       "4      MBCV          2708          CS              MBCV      3  "
      ]
     },
     "execution_count": 7,
     "metadata": {},
     "output_type": "execute_result"
    }
   ],
   "source": [
    "df3.head()"
   ]
  },
  {
   "cell_type": "code",
   "execution_count": 8,
   "metadata": {
    "colab": {
     "base_uri": "https://localhost:8080/",
     "height": 206
    },
    "id": "9dtj1mDcNsMb",
    "outputId": "aae8b43f-fb76-406a-c663-f6b916a41545"
   },
   "outputs": [
    {
     "data": {
      "text/html": [
       "<div>\n",
       "<style scoped>\n",
       "    .dataframe tbody tr th:only-of-type {\n",
       "        vertical-align: middle;\n",
       "    }\n",
       "\n",
       "    .dataframe tbody tr th {\n",
       "        vertical-align: top;\n",
       "    }\n",
       "\n",
       "    .dataframe thead th {\n",
       "        text-align: right;\n",
       "    }\n",
       "</style>\n",
       "<table border=\"1\" class=\"dataframe\">\n",
       "  <thead>\n",
       "    <tr style=\"text-align: right;\">\n",
       "      <th></th>\n",
       "      <th>S NO</th>\n",
       "      <th>APPLICATION NUMBER</th>\n",
       "      <th>NAME OF THE CANDIDATE</th>\n",
       "      <th>AGGREGATE MARK</th>\n",
       "      <th>RANK</th>\n",
       "      <th>COMMUNITY</th>\n",
       "      <th>COLLEGE CODE</th>\n",
       "      <th>BRANCH CODE</th>\n",
       "      <th>ALLOTTED CATEGORY</th>\n",
       "      <th>ROUND</th>\n",
       "    </tr>\n",
       "  </thead>\n",
       "  <tbody>\n",
       "    <tr>\n",
       "      <th>0</th>\n",
       "      <td>1</td>\n",
       "      <td>209679</td>\n",
       "      <td>HARISH K</td>\n",
       "      <td>188.91</td>\n",
       "      <td>9322</td>\n",
       "      <td>MBCV</td>\n",
       "      <td>1520</td>\n",
       "      <td>CS</td>\n",
       "      <td>MBCV</td>\n",
       "      <td>4</td>\n",
       "    </tr>\n",
       "    <tr>\n",
       "      <th>1</th>\n",
       "      <td>2</td>\n",
       "      <td>212066</td>\n",
       "      <td>SANJIV KANNAA J</td>\n",
       "      <td>188.50</td>\n",
       "      <td>10002</td>\n",
       "      <td>SC</td>\n",
       "      <td>1140</td>\n",
       "      <td>CS</td>\n",
       "      <td>SC</td>\n",
       "      <td>4</td>\n",
       "    </tr>\n",
       "    <tr>\n",
       "      <th>2</th>\n",
       "      <td>3</td>\n",
       "      <td>351955</td>\n",
       "      <td>A LINIYA DHAYALINI</td>\n",
       "      <td>186.50</td>\n",
       "      <td>13624</td>\n",
       "      <td>BC</td>\n",
       "      <td>1427</td>\n",
       "      <td>EC</td>\n",
       "      <td>OC</td>\n",
       "      <td>4</td>\n",
       "    </tr>\n",
       "    <tr>\n",
       "      <th>3</th>\n",
       "      <td>4</td>\n",
       "      <td>370640</td>\n",
       "      <td>KALAIVANAN K</td>\n",
       "      <td>185.50</td>\n",
       "      <td>15679</td>\n",
       "      <td>BC</td>\n",
       "      <td>1325</td>\n",
       "      <td>ME</td>\n",
       "      <td>OC</td>\n",
       "      <td>4</td>\n",
       "    </tr>\n",
       "    <tr>\n",
       "      <th>4</th>\n",
       "      <td>5</td>\n",
       "      <td>359595</td>\n",
       "      <td>ARAVIND I</td>\n",
       "      <td>185.32</td>\n",
       "      <td>16123</td>\n",
       "      <td>MBCV</td>\n",
       "      <td>1412</td>\n",
       "      <td>CS</td>\n",
       "      <td>MBCV</td>\n",
       "      <td>4</td>\n",
       "    </tr>\n",
       "  </tbody>\n",
       "</table>\n",
       "</div>"
      ],
      "text/plain": [
       "   S NO  APPLICATION NUMBER NAME OF THE CANDIDATE  AGGREGATE MARK   RANK  \\\n",
       "0     1              209679              HARISH K          188.91   9322   \n",
       "1     2              212066       SANJIV KANNAA J          188.50  10002   \n",
       "2     3              351955    A LINIYA DHAYALINI          186.50  13624   \n",
       "3     4              370640          KALAIVANAN K          185.50  15679   \n",
       "4     5              359595             ARAVIND I          185.32  16123   \n",
       "\n",
       "  COMMUNITY  COLLEGE CODE BRANCH CODE ALLOTTED CATEGORY  ROUND  \n",
       "0      MBCV          1520          CS              MBCV      4  \n",
       "1        SC          1140          CS                SC      4  \n",
       "2        BC          1427          EC                OC      4  \n",
       "3        BC          1325          ME                OC      4  \n",
       "4      MBCV          1412          CS              MBCV      4  "
      ]
     },
     "execution_count": 8,
     "metadata": {},
     "output_type": "execute_result"
    }
   ],
   "source": [
    "df4.head()"
   ]
  },
  {
   "cell_type": "markdown",
   "metadata": {
    "id": "JTjKv0Zz2_BM"
   },
   "source": [
    "## 4. Merging 4 dataframes into 1"
   ]
  },
  {
   "cell_type": "code",
   "execution_count": 9,
   "metadata": {
    "colab": {
     "base_uri": "https://localhost:8080/"
    },
    "id": "HoqxocV7M8jD",
    "outputId": "664a4af5-9716-4c77-ea4c-3134b0b9ce88"
   },
   "outputs": [
    {
     "name": "stdout",
     "output_type": "stream",
     "text": [
      "<class 'pandas.core.frame.DataFrame'>\n",
      "RangeIndex: 80068 entries, 0 to 80067\n",
      "Data columns (total 10 columns):\n",
      " #   Column                 Non-Null Count  Dtype  \n",
      "---  ------                 --------------  -----  \n",
      " 0   S NO                   80068 non-null  int64  \n",
      " 1   APPLICATION NUMBER     80068 non-null  int64  \n",
      " 2   NAME OF THE CANDIDATE  80068 non-null  object \n",
      " 3   AGGREGATE MARK         80068 non-null  float64\n",
      " 4   RANK                   80068 non-null  int64  \n",
      " 5   COMMUNITY              80068 non-null  object \n",
      " 6   COLLEGE CODE           80068 non-null  int64  \n",
      " 7   BRANCH CODE            80068 non-null  object \n",
      " 8   ALLOTTED CATEGORY      80068 non-null  object \n",
      " 9   ROUND                  80068 non-null  int64  \n",
      "dtypes: float64(1), int64(5), object(4)\n",
      "memory usage: 6.1+ MB\n"
     ]
    }
   ],
   "source": [
    "df = pd.concat([df1, df2, df3, df4],ignore_index =True)\n",
    "df.info()"
   ]
  },
  {
   "cell_type": "markdown",
   "metadata": {
    "id": "3EISjrhp3DqQ"
   },
   "source": [
    "## 5. Dropping unnecessary columns"
   ]
  },
  {
   "cell_type": "code",
   "execution_count": 10,
   "metadata": {
    "colab": {
     "base_uri": "https://localhost:8080/",
     "height": 206
    },
    "id": "fHNSLlGkNWKn",
    "outputId": "b069cbd4-bb7c-48a2-86a1-cbb12b369db5"
   },
   "outputs": [
    {
     "data": {
      "text/html": [
       "<div>\n",
       "<style scoped>\n",
       "    .dataframe tbody tr th:only-of-type {\n",
       "        vertical-align: middle;\n",
       "    }\n",
       "\n",
       "    .dataframe tbody tr th {\n",
       "        vertical-align: top;\n",
       "    }\n",
       "\n",
       "    .dataframe thead th {\n",
       "        text-align: right;\n",
       "    }\n",
       "</style>\n",
       "<table border=\"1\" class=\"dataframe\">\n",
       "  <thead>\n",
       "    <tr style=\"text-align: right;\">\n",
       "      <th></th>\n",
       "      <th>AGGREGATE MARK</th>\n",
       "      <th>RANK</th>\n",
       "      <th>COMMUNITY</th>\n",
       "      <th>COLLEGE CODE</th>\n",
       "      <th>BRANCH CODE</th>\n",
       "      <th>ALLOTTED CATEGORY</th>\n",
       "      <th>ROUND</th>\n",
       "    </tr>\n",
       "  </thead>\n",
       "  <tbody>\n",
       "    <tr>\n",
       "      <th>0</th>\n",
       "      <td>200.0</td>\n",
       "      <td>1</td>\n",
       "      <td>MBCV</td>\n",
       "      <td>1</td>\n",
       "      <td>CS</td>\n",
       "      <td>OC</td>\n",
       "      <td>1</td>\n",
       "    </tr>\n",
       "    <tr>\n",
       "      <th>1</th>\n",
       "      <td>200.0</td>\n",
       "      <td>3</td>\n",
       "      <td>BC</td>\n",
       "      <td>1</td>\n",
       "      <td>CS</td>\n",
       "      <td>OC</td>\n",
       "      <td>1</td>\n",
       "    </tr>\n",
       "    <tr>\n",
       "      <th>2</th>\n",
       "      <td>200.0</td>\n",
       "      <td>6</td>\n",
       "      <td>OC</td>\n",
       "      <td>1</td>\n",
       "      <td>EC</td>\n",
       "      <td>OC</td>\n",
       "      <td>1</td>\n",
       "    </tr>\n",
       "    <tr>\n",
       "      <th>3</th>\n",
       "      <td>200.0</td>\n",
       "      <td>7</td>\n",
       "      <td>BC</td>\n",
       "      <td>2006</td>\n",
       "      <td>CM</td>\n",
       "      <td>OC</td>\n",
       "      <td>1</td>\n",
       "    </tr>\n",
       "    <tr>\n",
       "      <th>4</th>\n",
       "      <td>200.0</td>\n",
       "      <td>8</td>\n",
       "      <td>BC</td>\n",
       "      <td>1</td>\n",
       "      <td>CS</td>\n",
       "      <td>OC</td>\n",
       "      <td>1</td>\n",
       "    </tr>\n",
       "  </tbody>\n",
       "</table>\n",
       "</div>"
      ],
      "text/plain": [
       "   AGGREGATE MARK  RANK COMMUNITY  COLLEGE CODE BRANCH CODE ALLOTTED CATEGORY  \\\n",
       "0           200.0     1      MBCV             1          CS                OC   \n",
       "1           200.0     3        BC             1          CS                OC   \n",
       "2           200.0     6        OC             1          EC                OC   \n",
       "3           200.0     7        BC          2006          CM                OC   \n",
       "4           200.0     8        BC             1          CS                OC   \n",
       "\n",
       "   ROUND  \n",
       "0      1  \n",
       "1      1  \n",
       "2      1  \n",
       "3      1  \n",
       "4      1  "
      ]
     },
     "execution_count": 10,
     "metadata": {},
     "output_type": "execute_result"
    }
   ],
   "source": [
    "df = df.drop([\"S NO\",\"APPLICATION NUMBER\",\"NAME OF THE CANDIDATE\"] , axis=1)\n",
    "df.head()"
   ]
  },
  {
   "cell_type": "markdown",
   "metadata": {
    "id": "9AudD74o25Qh"
   },
   "source": [
    "## 6. Renaming Column Names"
   ]
  },
  {
   "cell_type": "code",
   "execution_count": 11,
   "metadata": {
    "id": "eVvWsGT78mDZ"
   },
   "outputs": [],
   "source": [
    "df.rename(columns = {'AGGREGATE MARK':'AGGREGATE_MARK','COLLEGE CODE':'COLLEGE_CODE','BRANCH CODE':'BRANCH_CODE','ALLOTTED CATEGORY':'ALLOTTED_CATEGORY'}, inplace = True)"
   ]
  },
  {
   "cell_type": "markdown",
   "metadata": {
    "id": "I6Jq9ZD73PXg"
   },
   "source": [
    "## 7. Checking for Null Values"
   ]
  },
  {
   "cell_type": "code",
   "execution_count": 12,
   "metadata": {
    "colab": {
     "base_uri": "https://localhost:8080/"
    },
    "id": "m5EbOwIc25Qh",
    "outputId": "d9eccf80-6b22-479a-b279-39ab96ebf672"
   },
   "outputs": [
    {
     "data": {
      "text/plain": [
       "AGGREGATE_MARK       0\n",
       "RANK                 0\n",
       "COMMUNITY            0\n",
       "COLLEGE_CODE         0\n",
       "BRANCH_CODE          0\n",
       "ALLOTTED_CATEGORY    0\n",
       "ROUND                0\n",
       "dtype: int64"
      ]
     },
     "execution_count": 12,
     "metadata": {},
     "output_type": "execute_result"
    }
   ],
   "source": [
    "df.isnull().sum()"
   ]
  },
  {
   "cell_type": "code",
   "execution_count": 13,
   "metadata": {
    "colab": {
     "base_uri": "https://localhost:8080/",
     "height": 206
    },
    "id": "P6QjZzM91rqZ",
    "outputId": "f78caaa5-2f25-4e83-893a-4ca3e0764054"
   },
   "outputs": [
    {
     "data": {
      "text/html": [
       "<div>\n",
       "<style scoped>\n",
       "    .dataframe tbody tr th:only-of-type {\n",
       "        vertical-align: middle;\n",
       "    }\n",
       "\n",
       "    .dataframe tbody tr th {\n",
       "        vertical-align: top;\n",
       "    }\n",
       "\n",
       "    .dataframe thead th {\n",
       "        text-align: right;\n",
       "    }\n",
       "</style>\n",
       "<table border=\"1\" class=\"dataframe\">\n",
       "  <thead>\n",
       "    <tr style=\"text-align: right;\">\n",
       "      <th></th>\n",
       "      <th>AGGREGATE_MARK</th>\n",
       "      <th>RANK</th>\n",
       "      <th>COMMUNITY</th>\n",
       "      <th>COLLEGE_CODE</th>\n",
       "      <th>BRANCH_CODE</th>\n",
       "      <th>ALLOTTED_CATEGORY</th>\n",
       "      <th>ROUND</th>\n",
       "    </tr>\n",
       "  </thead>\n",
       "  <tbody>\n",
       "    <tr>\n",
       "      <th>0</th>\n",
       "      <td>200.0</td>\n",
       "      <td>1</td>\n",
       "      <td>MBCV</td>\n",
       "      <td>1</td>\n",
       "      <td>CS</td>\n",
       "      <td>OC</td>\n",
       "      <td>1</td>\n",
       "    </tr>\n",
       "    <tr>\n",
       "      <th>1</th>\n",
       "      <td>200.0</td>\n",
       "      <td>3</td>\n",
       "      <td>BC</td>\n",
       "      <td>1</td>\n",
       "      <td>CS</td>\n",
       "      <td>OC</td>\n",
       "      <td>1</td>\n",
       "    </tr>\n",
       "    <tr>\n",
       "      <th>2</th>\n",
       "      <td>200.0</td>\n",
       "      <td>6</td>\n",
       "      <td>OC</td>\n",
       "      <td>1</td>\n",
       "      <td>EC</td>\n",
       "      <td>OC</td>\n",
       "      <td>1</td>\n",
       "    </tr>\n",
       "    <tr>\n",
       "      <th>3</th>\n",
       "      <td>200.0</td>\n",
       "      <td>7</td>\n",
       "      <td>BC</td>\n",
       "      <td>2006</td>\n",
       "      <td>CM</td>\n",
       "      <td>OC</td>\n",
       "      <td>1</td>\n",
       "    </tr>\n",
       "    <tr>\n",
       "      <th>4</th>\n",
       "      <td>200.0</td>\n",
       "      <td>8</td>\n",
       "      <td>BC</td>\n",
       "      <td>1</td>\n",
       "      <td>CS</td>\n",
       "      <td>OC</td>\n",
       "      <td>1</td>\n",
       "    </tr>\n",
       "  </tbody>\n",
       "</table>\n",
       "</div>"
      ],
      "text/plain": [
       "   AGGREGATE_MARK  RANK COMMUNITY COLLEGE_CODE BRANCH_CODE ALLOTTED_CATEGORY  \\\n",
       "0           200.0     1      MBCV            1          CS                OC   \n",
       "1           200.0     3        BC            1          CS                OC   \n",
       "2           200.0     6        OC            1          EC                OC   \n",
       "3           200.0     7        BC         2006          CM                OC   \n",
       "4           200.0     8        BC            1          CS                OC   \n",
       "\n",
       "   ROUND  \n",
       "0      1  \n",
       "1      1  \n",
       "2      1  \n",
       "3      1  \n",
       "4      1  "
      ]
     },
     "execution_count": 13,
     "metadata": {},
     "output_type": "execute_result"
    }
   ],
   "source": [
    "df['COLLEGE_CODE']= df['COLLEGE_CODE'].apply(str)\n",
    "df.head()"
   ]
  },
  {
   "cell_type": "code",
   "execution_count": 14,
   "metadata": {
    "colab": {
     "base_uri": "https://localhost:8080/"
    },
    "id": "9is5iuB497xp",
    "outputId": "244015d8-48ad-4672-f017-0adac2cbc3db"
   },
   "outputs": [
    {
     "name": "stdout",
     "output_type": "stream",
     "text": [
      "<class 'pandas.core.frame.DataFrame'>\n",
      "RangeIndex: 80068 entries, 0 to 80067\n",
      "Data columns (total 7 columns):\n",
      " #   Column             Non-Null Count  Dtype  \n",
      "---  ------             --------------  -----  \n",
      " 0   AGGREGATE_MARK     80068 non-null  float64\n",
      " 1   RANK               80068 non-null  int64  \n",
      " 2   COMMUNITY          80068 non-null  object \n",
      " 3   COLLEGE_CODE       80068 non-null  object \n",
      " 4   BRANCH_CODE        80068 non-null  object \n",
      " 5   ALLOTTED_CATEGORY  80068 non-null  object \n",
      " 6   ROUND              80068 non-null  int64  \n",
      "dtypes: float64(1), int64(2), object(4)\n",
      "memory usage: 4.3+ MB\n"
     ]
    }
   ],
   "source": [
    "df.info()"
   ]
  },
  {
   "cell_type": "markdown",
   "metadata": {
    "id": "qI7_dv3s3gr6"
   },
   "source": [
    "## 8. Uni-Variate Visualization"
   ]
  },
  {
   "cell_type": "markdown",
   "metadata": {
    "id": "iQhG6fTd25Qi"
   },
   "source": [
    "### Histogram"
   ]
  },
  {
   "cell_type": "code",
   "execution_count": 15,
   "metadata": {
    "colab": {
     "base_uri": "https://localhost:8080/",
     "height": 280
    },
    "id": "WvH6LhB74EhB",
    "outputId": "9ffa1de9-4c02-43fc-e855-3a90cdc585a1"
   },
   "outputs": [
    {
     "data": {
      "image/png": "[encoded data removed]",
      "text/plain": [
       "<Figure size 432x288 with 1 Axes>"
      ]
     },
     "metadata": {
      "needs_background": "light"
     },
     "output_type": "display_data"
    }
   ],
   "source": [
    "sns.histplot(df['AGGREGATE_MARK'])\n",
    "plt.show()"
   ]
  },
  {
   "cell_type": "markdown",
   "metadata": {
    "id": "SxvQSI1g4-OX"
   },
   "source": [
    "## 9. Bi-Variate Visualization"
   ]
  },
  {
   "cell_type": "markdown",
   "metadata": {
    "id": "vacObixb25Qi"
   },
   "source": [
    "### Scatter Plot"
   ]
  },
  {
   "cell_type": "code",
   "execution_count": 16,
   "metadata": {
    "colab": {
     "base_uri": "https://localhost:8080/",
     "height": 320
    },
    "id": "xV6HsOUD5iOz",
    "outputId": "897da951-9536-4e72-ab8d-b60e535cdad6"
   },
   "outputs": [
    {
     "data": {
      "text/plain": [
       "<seaborn.axisgrid.PairGrid at 0x7f182082e4c0>"
      ]
     },
     "execution_count": 16,
     "metadata": {},
     "output_type": "execute_result"
    },
    {
     "data": {
      "image/png": "[encoded data removed]",
      "text/plain": [
       "<Figure size 288x288 with 1 Axes>"
      ]
     },
     "metadata": {
      "needs_background": "light"
     },
     "output_type": "display_data"
    }
   ],
   "source": [
    "sns.pairplot(df, x_vars='RANK', y_vars='ROUND', height=4, aspect=1, kind='scatter')"
   ]
  },
  {
   "cell_type": "code",
   "execution_count": 17,
   "metadata": {
    "colab": {
     "base_uri": "https://localhost:8080/",
     "height": 461
    },
    "id": "AGWmgnlE7YAQ",
    "outputId": "91bdcd1b-9850-40cf-fa11-2fbd42f20d7c"
   },
   "outputs": [
    {
     "data": {
      "text/plain": [
       "<seaborn.axisgrid.PairGrid at 0x7f182082ee50>"
      ]
     },
     "execution_count": 17,
     "metadata": {},
     "output_type": "execute_result"
    },
    {
     "data": {
      "image/png": "[encoded data removed]",
      "text/plain": [
       "<Figure size 432x432 with 1 Axes>"
      ]
     },
     "metadata": {
      "needs_background": "light"
     },
     "output_type": "display_data"
    }
   ],
   "source": [
    "sns.pairplot(df, x_vars='RANK', y_vars='AGGREGATE_MARK', height=6, aspect=1, kind='scatter')"
   ]
  },
  {
   "cell_type": "markdown",
   "metadata": {
    "id": "YOP0Jxia-Umk"
   },
   "source": [
    "## 10. Multi-Variate visualization"
   ]
  },
  {
   "cell_type": "code",
   "execution_count": 18,
   "metadata": {
    "colab": {
     "base_uri": "https://localhost:8080/",
     "height": 295
    },
    "id": "UBGIAPPB-MGq",
    "outputId": "3e070ce5-315e-4890-86ce-6d68fe3c9de1"
   },
   "outputs": [
    {
     "data": {
      "text/plain": [
       "<AxesSubplot:>"
      ]
     },
     "execution_count": 18,
     "metadata": {},
     "output_type": "execute_result"
    },
    {
     "data": {
      "image/png": "[encoded data removed]",
      "text/plain": [
       "<Figure size 432x288 with 2 Axes>"
      ]
     },
     "metadata": {
      "needs_background": "light"
     },
     "output_type": "display_data"
    }
   ],
   "source": [
    "sns.heatmap(df.corr(), cmap=\"YlGnBu\", annot = True)"
   ]
  },
  {
   "cell_type": "markdown",
   "metadata": {
    "id": "aFjh8yhAzQEy"
   },
   "source": [
    "## 11.Shuffling of rows"
   ]
  },
  {
   "cell_type": "code",
   "execution_count": 19,
   "metadata": {
    "colab": {
     "base_uri": "https://localhost:8080/",
     "height": 206
    },
    "id": "QZATkgpJykTy",
    "outputId": "df60e737-5553-4e74-be26-b9bdece7187b"
   },
   "outputs": [
    {
     "data": {
      "text/html": [
       "<div>\n",
       "<style scoped>\n",
       "    .dataframe tbody tr th:only-of-type {\n",
       "        vertical-align: middle;\n",
       "    }\n",
       "\n",
       "    .dataframe tbody tr th {\n",
       "        vertical-align: top;\n",
       "    }\n",
       "\n",
       "    .dataframe thead th {\n",
       "        text-align: right;\n",
       "    }\n",
       "</style>\n",
       "<table border=\"1\" class=\"dataframe\">\n",
       "  <thead>\n",
       "    <tr style=\"text-align: right;\">\n",
       "      <th></th>\n",
       "      <th>AGGREGATE_MARK</th>\n",
       "      <th>RANK</th>\n",
       "      <th>COMMUNITY</th>\n",
       "      <th>COLLEGE_CODE</th>\n",
       "      <th>BRANCH_CODE</th>\n",
       "      <th>ALLOTTED_CATEGORY</th>\n",
       "      <th>ROUND</th>\n",
       "    </tr>\n",
       "  </thead>\n",
       "  <tbody>\n",
       "    <tr>\n",
       "      <th>16618</th>\n",
       "      <td>181.900</td>\n",
       "      <td>23893</td>\n",
       "      <td>MBCV</td>\n",
       "      <td>1317</td>\n",
       "      <td>ME</td>\n",
       "      <td>OC</td>\n",
       "      <td>2</td>\n",
       "    </tr>\n",
       "    <tr>\n",
       "      <th>64243</th>\n",
       "      <td>152.480</td>\n",
       "      <td>104068</td>\n",
       "      <td>SC</td>\n",
       "      <td>5</td>\n",
       "      <td>CZ</td>\n",
       "      <td>SC</td>\n",
       "      <td>4</td>\n",
       "    </tr>\n",
       "    <tr>\n",
       "      <th>57230</th>\n",
       "      <td>158.500</td>\n",
       "      <td>89945</td>\n",
       "      <td>BCM</td>\n",
       "      <td>2740</td>\n",
       "      <td>PH</td>\n",
       "      <td>BCM</td>\n",
       "      <td>4</td>\n",
       "    </tr>\n",
       "    <tr>\n",
       "      <th>49105</th>\n",
       "      <td>163.155</td>\n",
       "      <td>77073</td>\n",
       "      <td>SCA</td>\n",
       "      <td>3826</td>\n",
       "      <td>BM</td>\n",
       "      <td>SCA</td>\n",
       "      <td>3</td>\n",
       "    </tr>\n",
       "    <tr>\n",
       "      <th>65745</th>\n",
       "      <td>151.000</td>\n",
       "      <td>107049</td>\n",
       "      <td>SC</td>\n",
       "      <td>4959</td>\n",
       "      <td>CS</td>\n",
       "      <td>SC</td>\n",
       "      <td>4</td>\n",
       "    </tr>\n",
       "  </tbody>\n",
       "</table>\n",
       "</div>"
      ],
      "text/plain": [
       "       AGGREGATE_MARK    RANK COMMUNITY COLLEGE_CODE BRANCH_CODE  \\\n",
       "16618         181.900   23893      MBCV         1317          ME   \n",
       "64243         152.480  104068        SC            5          CZ   \n",
       "57230         158.500   89945       BCM         2740          PH   \n",
       "49105         163.155   77073       SCA         3826          BM   \n",
       "65745         151.000  107049        SC         4959          CS   \n",
       "\n",
       "      ALLOTTED_CATEGORY  ROUND  \n",
       "16618                OC      2  \n",
       "64243                SC      4  \n",
       "57230               BCM      4  \n",
       "49105               SCA      3  \n",
       "65745                SC      4  "
      ]
     },
     "execution_count": 19,
     "metadata": {},
     "output_type": "execute_result"
    }
   ],
   "source": [
    "df = df.sample(frac = 1)\n",
    "df.head()"
   ]
  },
  {
   "cell_type": "markdown",
   "metadata": {
    "id": "bXlQrHZA-rzn"
   },
   "source": [
    "## 12. Predicting RANK from AGGREGATE_MARK"
   ]
  },
  {
   "cell_type": "markdown",
   "metadata": {
    "id": "XMD8cbGP-1j6"
   },
   "source": [
    "### Spliting dependent and independent variables"
   ]
  },
  {
   "cell_type": "code",
   "execution_count": 20,
   "metadata": {
    "id": "jppUC0VlzLj6"
   },
   "outputs": [],
   "source": [
    "X = df['AGGREGATE_MARK']\n",
    "y = df['RANK']"
   ]
  },
  {
   "cell_type": "code",
   "execution_count": 21,
   "metadata": {
    "id": "_iTVmXaDzcX_"
   },
   "outputs": [],
   "source": [
    "from sklearn.model_selection import train_test_split\n",
    "X_train, X_test, y_train, y_test = train_test_split(X, y, train_size = 0.7, test_size = 0.3, random_state = 0)"
   ]
  },
  {
   "cell_type": "code",
   "execution_count": 22,
   "metadata": {
    "id": "m76VHXCDziak"
   },
   "outputs": [],
   "source": [
    "X_train\n",
    "X_train=X_train.to_numpy()\n",
    "X_train = X_train.reshape(-1, 1)"
   ]
  },
  {
   "cell_type": "code",
   "execution_count": 23,
   "metadata": {
    "id": "UXodyfxM0AX7"
   },
   "outputs": [],
   "source": [
    "y_train\n",
    "y_train=y_train.to_numpy()\n",
    "y_train = y_train.reshape(-1, 1)"
   ]
  },
  {
   "cell_type": "code",
   "execution_count": 24,
   "metadata": {
    "id": "NitdP05U0FLB"
   },
   "outputs": [],
   "source": [
    "y_test\n",
    "y_test =y_test.to_numpy()\n",
    "y_test = y_test.reshape(-1, 1)"
   ]
  },
  {
   "cell_type": "code",
   "execution_count": 25,
   "metadata": {
    "id": "nWP3O4Mb0SLp"
   },
   "outputs": [],
   "source": [
    "X_test\n",
    "X_test = X_test.to_numpy()\n",
    "X_test = X_test.reshape(-1, 1)"
   ]
  },
  {
   "cell_type": "markdown",
   "metadata": {
    "id": "Aj2mUJAd2JmW"
   },
   "source": [
    "### Model Building using LINEAR REGRESSION"
   ]
  },
  {
   "cell_type": "code",
   "execution_count": 26,
   "metadata": {
    "colab": {
     "base_uri": "https://localhost:8080/"
    },
    "id": "rig6kBOR0Mw-",
    "outputId": "55e4b69a-14c4-4fb2-9adf-8a17ba36e4ed"
   },
   "outputs": [
    {
     "data": {
      "text/plain": [
       "LinearRegression()"
      ]
     },
     "execution_count": 26,
     "metadata": {},
     "output_type": "execute_result"
    }
   ],
   "source": [
    "from sklearn.linear_model import LinearRegression\n",
    "lr=LinearRegression()\n",
    "lr.fit(X_train,y_train)"
   ]
  },
  {
   "cell_type": "markdown",
   "metadata": {
    "id": "-ur23mIxQPWA"
   },
   "source": [
    "### Model Building with 100% data"
   ]
  },
  {
   "cell_type": "code",
   "execution_count": 27,
   "metadata": {
    "colab": {
     "base_uri": "https://localhost:8080/"
    },
    "id": "fuATaqJ6QVOb",
    "outputId": "3a66fa99-fef1-47a5-e15b-892dbaa9ea42"
   },
   "outputs": [
    {
     "data": {
      "text/plain": [
       "LinearRegression()"
      ]
     },
     "execution_count": 27,
     "metadata": {},
     "output_type": "execute_result"
    }
   ],
   "source": [
    "m2r = LinearRegression()\n",
    "m2r.fit(X.to_numpy().reshape(-1,1), y.to_numpy().reshape(-1,1)) "
   ]
  },
  {
   "cell_type": "markdown",
   "metadata": {
    "id": "b0pi-usK2G_A"
   },
   "source": [
    "### Finding accuracy"
   ]
  },
  {
   "cell_type": "code",
   "execution_count": 31,
   "metadata": {
    "colab": {
     "base_uri": "https://localhost:8080/"
    },
    "id": "StVGhQom0ktA",
    "outputId": "d132d4e2-af2a-4c48-df07-23d703c008d2"
   },
   "outputs": [
    {
     "data": {
      "text/plain": [
       "0.91923217895487"
      ]
     },
     "execution_count": 31,
     "metadata": {},
     "output_type": "execute_result"
    }
   ],
   "source": [
    "lr.score(X_test,y_test)"
   ]
  },
  {
   "cell_type": "code",
   "execution_count": 32,
   "metadata": {
    "colab": {
     "base_uri": "https://localhost:8080/"
    },
    "id": "UcQncs9FQ4Zj",
    "outputId": "b10cda0c-7cab-4454-af6f-49b7f107be2c"
   },
   "outputs": [
    {
     "data": {
      "text/plain": [
       "0.9193808749948926"
      ]
     },
     "execution_count": 32,
     "metadata": {},
     "output_type": "execute_result"
    }
   ],
   "source": [
    "m2r.score(X_test, y_test)"
   ]
  },
  {
   "cell_type": "markdown",
   "metadata": {
    "id": "q_2ORv9PACNw"
   },
   "source": [
    "### Exporting the model to pickle file"
   ]
  },
  {
   "cell_type": "code",
   "execution_count": 50,
   "metadata": {
    "id": "ifx4qTSxABrl"
   },
   "outputs": [],
   "source": [
    "#with open('./marks_to_rank.pickle','wb') as f:\n",
    "#    pickle.dump(m2r,f)"
   ]
  },
  {
   "cell_type": "markdown",
   "metadata": {
    "id": "RE0iqRx-Au75"
   },
   "source": [
    "## 13. Predicting ROUND from RANK "
   ]
  },
  {
   "cell_type": "markdown",
   "metadata": {
    "id": "2d6qEE-IBAD_"
   },
   "source": [
    "### Spliting dependent and independent variables"
   ]
  },
  {
   "cell_type": "code",
   "execution_count": 34,
   "metadata": {
    "id": "VOAXiOk0AcIH"
   },
   "outputs": [],
   "source": [
    "X1 = df['RANK']\n",
    "y1= df['ROUND']"
   ]
  },
  {
   "cell_type": "code",
   "execution_count": 35,
   "metadata": {
    "id": "jvy5g7KFA9TF"
   },
   "outputs": [],
   "source": [
    "from sklearn.model_selection import train_test_split\n",
    "X1_train, X1_test, y1_train, y1_test = train_test_split(X1, y1, train_size = 0.9, test_size = 0.1, random_state = 0)"
   ]
  },
  {
   "cell_type": "code",
   "execution_count": 36,
   "metadata": {
    "id": "DyaRZlm4BI_T"
   },
   "outputs": [],
   "source": [
    "X1_train\n",
    "X1_train=X1_train.to_numpy()\n",
    "X1_train = X1_train.reshape(-1, 1)"
   ]
  },
  {
   "cell_type": "code",
   "execution_count": 37,
   "metadata": {
    "id": "NdumkxLaBJuE"
   },
   "outputs": [],
   "source": [
    "y1_train\n",
    "y1_train=y1_train.to_numpy()\n",
    "y1_train = y1_train.reshape(-1, 1)"
   ]
  },
  {
   "cell_type": "code",
   "execution_count": 38,
   "metadata": {
    "id": "_eowtTR5BKuK"
   },
   "outputs": [],
   "source": [
    "X1_test\n",
    "X1_test=X1_test.to_numpy()\n",
    "X1_test = X1_test.reshape(-1, 1)"
   ]
  },
  {
   "cell_type": "code",
   "execution_count": 39,
   "metadata": {
    "id": "5fstqBMWBKWF"
   },
   "outputs": [],
   "source": [
    "y1_test\n",
    "y1_test=y1_test.to_numpy()\n",
    "y1_test = y1_test.reshape(-1, 1)"
   ]
  },
  {
   "cell_type": "markdown",
   "metadata": {
    "id": "TU448tu0Cxiz"
   },
   "source": [
    "### Model Building"
   ]
  },
  {
   "cell_type": "code",
   "execution_count": 40,
   "metadata": {
    "colab": {
     "base_uri": "https://localhost:8080/"
    },
    "id": "qOXYptQNCMQf",
    "outputId": "b48bbed6-035f-4c5b-ebcd-d7754760771b"
   },
   "outputs": [
    {
     "data": {
      "text/plain": [
       "LinearRegression()"
      ]
     },
     "execution_count": 40,
     "metadata": {},
     "output_type": "execute_result"
    }
   ],
   "source": [
    "from sklearn.linear_model import LinearRegression\n",
    "lr=LinearRegression()\n",
    "lr.fit(X1_train,y1_train)"
   ]
  },
  {
   "cell_type": "markdown",
   "metadata": {
    "id": "pmUxpc4gRYJ3"
   },
   "source": [
    "### Model Building using 100% data"
   ]
  },
  {
   "cell_type": "code",
   "execution_count": 41,
   "metadata": {
    "colab": {
     "base_uri": "https://localhost:8080/"
    },
    "id": "1n6Ki54vRnla",
    "outputId": "4e0ddee0-c066-48e6-a062-110e41f8e3f2"
   },
   "outputs": [
    {
     "data": {
      "text/plain": [
       "LinearRegression()"
      ]
     },
     "execution_count": 41,
     "metadata": {},
     "output_type": "execute_result"
    }
   ],
   "source": [
    "r2r = LinearRegression()\n",
    "r2r.fit(X1.to_numpy().reshape(-1,1), y1.to_numpy().reshape(-1,1))"
   ]
  },
  {
   "cell_type": "markdown",
   "metadata": {
    "id": "8fMmMD1hPbDo"
   },
   "source": [
    "### Finding the Accuracy"
   ]
  },
  {
   "cell_type": "code",
   "execution_count": 42,
   "metadata": {
    "colab": {
     "base_uri": "https://localhost:8080/"
    },
    "id": "6E8xPdUlPgVJ",
    "outputId": "942bae90-7582-4c74-a4fd-770e2bf78b49"
   },
   "outputs": [
    {
     "data": {
      "text/plain": [
       "0.8663557363021608"
      ]
     },
     "execution_count": 42,
     "metadata": {},
     "output_type": "execute_result"
    }
   ],
   "source": [
    "lr.score(X1_test,y1_test)"
   ]
  },
  {
   "cell_type": "code",
   "execution_count": 43,
   "metadata": {
    "colab": {
     "base_uri": "https://localhost:8080/"
    },
    "id": "url1e2asR3D1",
    "outputId": "adae9843-f7a3-4d1c-d4f4-a115b7976957"
   },
   "outputs": [
    {
     "data": {
      "text/plain": [
       "0.8663696319638035"
      ]
     },
     "execution_count": 43,
     "metadata": {},
     "output_type": "execute_result"
    }
   ],
   "source": [
    "r2r.score(X1_test, y1_test)"
   ]
  },
  {
   "cell_type": "markdown",
   "metadata": {
    "id": "oxe74niwH2MN"
   },
   "source": [
    "### Exporting model to pickle file"
   ]
  },
  {
   "cell_type": "code",
   "execution_count": 49,
   "metadata": {
    "id": "naq030WDGjCv"
   },
   "outputs": [],
   "source": [
    "#with open('./rank_to_round.pickle','wb') as f:\n",
    "#    pickle.dump(r2r,f)"
   ]
  }
 ],
 "metadata": {
  "colab": {
   "provenance": []
  },
  "gpuClass": "standard",
  "kernelspec": {
   "display_name": "Python 3 (ipykernel)",
   "language": "python",
   "name": "python3"
  },
  "language_info": {
   "codemirror_mode": {
    "name": "ipython",
    "version": 3
   },
   "file_extension": ".py",
   "mimetype": "text/x-python",
   "name": "python",
   "nbconvert_exporter": "python",
   "pygments_lexer": "ipython3",
   "version": "3.9.12"
  }
 },
 "nbformat": 4,
 "nbformat_minor": 1
}
